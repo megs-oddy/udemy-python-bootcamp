{
 "cells": [
  {
   "cell_type": "code",
   "execution_count": 6,
   "metadata": {},
   "outputs": [],
   "source": [
    "# Card Class\n",
    "# Suit, Rank, Value"
   ]
  },
  {
   "cell_type": "code",
   "execution_count": 7,
   "metadata": {},
   "outputs": [],
   "source": [
    "import random\n",
    "suits = ('Hearts', 'Diamonds', 'Spades', 'Clubs')\n",
    "ranks = ('Two', 'Three', 'Four', 'Five', 'Six', 'Seven', 'Eight', 'Nine', 'Ten', 'Jack', 'Queen', 'King', 'Ace')\n",
    "values = {'Two':2, 'Three':3, 'Four':4, 'Five':5, 'Six':6, 'Seven':7, 'Eight':8, \n",
    "            'Nine':9, 'Ten':10, 'Jack':11, 'Queen':12, 'King':13, 'Ace':14}"
   ]
  },
  {
   "cell_type": "code",
   "execution_count": 8,
   "metadata": {},
   "outputs": [],
   "source": [
    "class Card():\n",
    "    \n",
    "    def __init__(self,suit,rank):\n",
    "        self.suit = suit \n",
    "        self.rank = rank\n",
    "        self.value = values[rank]\n",
    "        \n",
    "    def __str__(self):\n",
    "        return self.rank + \" of \" + self.suit"
   ]
  },
  {
   "cell_type": "code",
   "execution_count": 54,
   "metadata": {},
   "outputs": [],
   "source": [
    "TwoH = Card('Hearts','Two')"
   ]
  },
  {
   "cell_type": "code",
   "execution_count": 57,
   "metadata": {},
   "outputs": [
    {
     "name": "stdout",
     "output_type": "stream",
     "text": [
      "Two of Hearts\n"
     ]
    }
   ],
   "source": [
    "print(TwoH)"
   ]
  },
  {
   "cell_type": "code",
   "execution_count": 11,
   "metadata": {},
   "outputs": [],
   "source": [
    "three_clubs = Card('Clubs','Three')"
   ]
  },
  {
   "cell_type": "code",
   "execution_count": 12,
   "metadata": {},
   "outputs": [
    {
     "data": {
      "text/plain": [
       "'Clubs'"
      ]
     },
     "execution_count": 12,
     "metadata": {},
     "output_type": "execute_result"
    }
   ],
   "source": [
    "three_clubs.suit"
   ]
  },
  {
   "cell_type": "code",
   "execution_count": 13,
   "metadata": {},
   "outputs": [
    {
     "data": {
      "text/plain": [
       "'Three'"
      ]
     },
     "execution_count": 13,
     "metadata": {},
     "output_type": "execute_result"
    }
   ],
   "source": [
    "three_clubs.rank"
   ]
  },
  {
   "cell_type": "code",
   "execution_count": 14,
   "metadata": {},
   "outputs": [
    {
     "data": {
      "text/plain": [
       "3"
      ]
     },
     "execution_count": 14,
     "metadata": {},
     "output_type": "execute_result"
    }
   ],
   "source": [
    "three_clubs.value"
   ]
  },
  {
   "cell_type": "code",
   "execution_count": 15,
   "metadata": {},
   "outputs": [
    {
     "ename": "NameError",
     "evalue": "name 'two_hearts' is not defined",
     "output_type": "error",
     "traceback": [
      "\u001b[0;31m---------------------------------------------------------------------------\u001b[0m",
      "\u001b[0;31mNameError\u001b[0m                                 Traceback (most recent call last)",
      "\u001b[0;32m<ipython-input-15-5bef2ed0d6ba>\u001b[0m in \u001b[0;36m<module>\u001b[0;34m\u001b[0m\n\u001b[0;32m----> 1\u001b[0;31m \u001b[0mtwo_hearts\u001b[0m\u001b[0;34m.\u001b[0m\u001b[0mvalue\u001b[0m \u001b[0;34m==\u001b[0m \u001b[0mthree_clubs\u001b[0m\u001b[0;34m.\u001b[0m\u001b[0mvalue\u001b[0m\u001b[0;34m\u001b[0m\u001b[0;34m\u001b[0m\u001b[0m\n\u001b[0m",
      "\u001b[0;31mNameError\u001b[0m: name 'two_hearts' is not defined"
     ]
    }
   ],
   "source": [
    "two_hearts.value == three_clubs.value"
   ]
  },
  {
   "cell_type": "code",
   "execution_count": null,
   "metadata": {},
   "outputs": [],
   "source": []
  },
  {
   "cell_type": "code",
   "execution_count": 16,
   "metadata": {},
   "outputs": [],
   "source": [
    "class Deck():\n",
    "    \n",
    "    def __init__(self):\n",
    "        \n",
    "        self.all_cards = []\n",
    "        \n",
    "        for suit in suits:\n",
    "             for rank in ranks:\n",
    "                    # Create card object\n",
    "                    created_card = Card(suit,rank)\n",
    "                    self.all_cards.append(created_card)\n",
    "                    \n",
    "    def shuffle(self):\n",
    "        random.shuffle(self.all_cards)\n",
    "        \n",
    "    def deal_one(self):\n",
    "        return self.all_cards.pop()"
   ]
  },
  {
   "cell_type": "code",
   "execution_count": 17,
   "metadata": {},
   "outputs": [
    {
     "name": "stdout",
     "output_type": "stream",
     "text": [
      "Two of Hearts\n"
     ]
    }
   ],
   "source": [
    "new_deck = Deck()\n",
    "print(new_deck.all_cards[0])"
   ]
  },
  {
   "cell_type": "code",
   "execution_count": 18,
   "metadata": {},
   "outputs": [],
   "source": [
    "new_deck.shuffle()"
   ]
  },
  {
   "cell_type": "code",
   "execution_count": 19,
   "metadata": {},
   "outputs": [
    {
     "name": "stdout",
     "output_type": "stream",
     "text": [
      "<__main__.Deck object at 0x7fec88e7cbe0>\n"
     ]
    }
   ],
   "source": [
    "print(new_deck)"
   ]
  },
  {
   "cell_type": "code",
   "execution_count": 20,
   "metadata": {},
   "outputs": [
    {
     "data": {
      "text/plain": [
       "13"
      ]
     },
     "execution_count": 20,
     "metadata": {},
     "output_type": "execute_result"
    }
   ],
   "source": [
    "new_deck.all_cards[0].value"
   ]
  },
  {
   "cell_type": "code",
   "execution_count": 21,
   "metadata": {},
   "outputs": [],
   "source": [
    "mycard = new_deck.deal_one()"
   ]
  },
  {
   "cell_type": "code",
   "execution_count": 22,
   "metadata": {},
   "outputs": [
    {
     "name": "stdout",
     "output_type": "stream",
     "text": [
      "Three of Clubs\n"
     ]
    }
   ],
   "source": [
    "print(mycard)"
   ]
  },
  {
   "cell_type": "code",
   "execution_count": 23,
   "metadata": {},
   "outputs": [
    {
     "data": {
      "text/plain": [
       "51"
      ]
     },
     "execution_count": 23,
     "metadata": {},
     "output_type": "execute_result"
    }
   ],
   "source": [
    "len(new_deck.all_cards)"
   ]
  },
  {
   "cell_type": "code",
   "execution_count": null,
   "metadata": {},
   "outputs": [],
   "source": []
  },
  {
   "cell_type": "code",
   "execution_count": 24,
   "metadata": {},
   "outputs": [],
   "source": [
    "first_card = new_deck.all_cards[0]"
   ]
  },
  {
   "cell_type": "code",
   "execution_count": 25,
   "metadata": {},
   "outputs": [
    {
     "name": "stdout",
     "output_type": "stream",
     "text": [
      "King of Hearts\n"
     ]
    }
   ],
   "source": [
    "print(first_card)"
   ]
  },
  {
   "cell_type": "code",
   "execution_count": 26,
   "metadata": {},
   "outputs": [],
   "source": [
    "bottom_card = new_deck.all_cards[-1]"
   ]
  },
  {
   "cell_type": "code",
   "execution_count": 27,
   "metadata": {},
   "outputs": [
    {
     "name": "stdout",
     "output_type": "stream",
     "text": [
      "Five of Hearts\n"
     ]
    }
   ],
   "source": [
    "print(bottom_card)"
   ]
  },
  {
   "cell_type": "code",
   "execution_count": 28,
   "metadata": {},
   "outputs": [],
   "source": [
    "# for card_object in new_deck.all_cards:\n",
    "#     print(card_object)"
   ]
  },
  {
   "cell_type": "code",
   "execution_count": 29,
   "metadata": {},
   "outputs": [],
   "source": [
    "new_deck.shuffle()"
   ]
  },
  {
   "cell_type": "code",
   "execution_count": 30,
   "metadata": {},
   "outputs": [
    {
     "name": "stdout",
     "output_type": "stream",
     "text": [
      "Six of Hearts\n"
     ]
    }
   ],
   "source": [
    "print(new_deck.all_cards[0])"
   ]
  },
  {
   "cell_type": "code",
   "execution_count": 31,
   "metadata": {},
   "outputs": [],
   "source": [
    "cards = ['a','b','c']"
   ]
  },
  {
   "cell_type": "code",
   "execution_count": 32,
   "metadata": {},
   "outputs": [],
   "source": [
    "cards.append('d')"
   ]
  },
  {
   "cell_type": "code",
   "execution_count": 33,
   "metadata": {},
   "outputs": [
    {
     "data": {
      "text/plain": [
       "['a', 'b', 'c', 'd']"
      ]
     },
     "execution_count": 33,
     "metadata": {},
     "output_type": "execute_result"
    }
   ],
   "source": [
    "cards"
   ]
  },
  {
   "cell_type": "code",
   "execution_count": 34,
   "metadata": {},
   "outputs": [],
   "source": [
    "cards.extend(['e'])"
   ]
  },
  {
   "cell_type": "code",
   "execution_count": 35,
   "metadata": {},
   "outputs": [
    {
     "data": {
      "text/plain": [
       "['a', 'b', 'c', 'd', 'e']"
      ]
     },
     "execution_count": 35,
     "metadata": {},
     "output_type": "execute_result"
    }
   ],
   "source": [
    "cards"
   ]
  },
  {
   "cell_type": "code",
   "execution_count": null,
   "metadata": {},
   "outputs": [],
   "source": []
  },
  {
   "cell_type": "code",
   "execution_count": 36,
   "metadata": {},
   "outputs": [],
   "source": [
    "class Player():\n",
    "    \n",
    "    def __init__(self,name):\n",
    "        \n",
    "        self.name = name\n",
    "        self.all_cards = []\n",
    "        \n",
    "    def remove_one(self):\n",
    "        return self.all_cards.pop(0)\n",
    "    \n",
    "    def add_cards(self,new_cards):\n",
    "        if type(new_cards) == type([]):\n",
    "            self.all_cards.extend(new_cards)\n",
    "        else:\n",
    "            self.all_cards.append(new_cards)\n",
    "    \n",
    "    def __str__(self):\n",
    "        return f'Player {self.name} has {len(self.all_cards)} cards.'"
   ]
  },
  {
   "cell_type": "code",
   "execution_count": 37,
   "metadata": {},
   "outputs": [],
   "source": [
    "player1 = Player('Jose')"
   ]
  },
  {
   "cell_type": "code",
   "execution_count": 38,
   "metadata": {},
   "outputs": [
    {
     "name": "stdout",
     "output_type": "stream",
     "text": [
      "Player Jose has 0 cards.\n"
     ]
    }
   ],
   "source": [
    "print(player1)"
   ]
  },
  {
   "cell_type": "code",
   "execution_count": 39,
   "metadata": {},
   "outputs": [],
   "source": [
    "player1.add_cards(mycard)"
   ]
  },
  {
   "cell_type": "code",
   "execution_count": 40,
   "metadata": {},
   "outputs": [
    {
     "name": "stdout",
     "output_type": "stream",
     "text": [
      "Player Jose has 1 cards.\n"
     ]
    }
   ],
   "source": [
    "print(player1)"
   ]
  },
  {
   "cell_type": "code",
   "execution_count": 41,
   "metadata": {},
   "outputs": [],
   "source": [
    "player1.add_cards(['a','b','c'])"
   ]
  },
  {
   "cell_type": "code",
   "execution_count": 42,
   "metadata": {},
   "outputs": [
    {
     "name": "stdout",
     "output_type": "stream",
     "text": [
      "Player Jose has 4 cards.\n"
     ]
    }
   ],
   "source": [
    "print(player1)"
   ]
  },
  {
   "cell_type": "code",
   "execution_count": 43,
   "metadata": {},
   "outputs": [
    {
     "data": {
      "text/plain": [
       "<__main__.Card at 0x7fec88e5dbe0>"
      ]
     },
     "execution_count": 43,
     "metadata": {},
     "output_type": "execute_result"
    }
   ],
   "source": [
    "player1.remove_one()"
   ]
  },
  {
   "cell_type": "code",
   "execution_count": 44,
   "metadata": {},
   "outputs": [
    {
     "name": "stdout",
     "output_type": "stream",
     "text": [
      "Player Jose has 3 cards.\n"
     ]
    }
   ],
   "source": [
    "print(player1)"
   ]
  },
  {
   "cell_type": "code",
   "execution_count": 45,
   "metadata": {},
   "outputs": [
    {
     "name": "stdout",
     "output_type": "stream",
     "text": [
      "['a', 'b', 'c']\n"
     ]
    }
   ],
   "source": [
    "print(player1.all_cards)"
   ]
  },
  {
   "cell_type": "code",
   "execution_count": 46,
   "metadata": {},
   "outputs": [
    {
     "data": {
      "text/plain": [
       "'a'"
      ]
     },
     "execution_count": 46,
     "metadata": {},
     "output_type": "execute_result"
    }
   ],
   "source": [
    "player1.remove_one()"
   ]
  },
  {
   "cell_type": "code",
   "execution_count": 47,
   "metadata": {},
   "outputs": [
    {
     "name": "stdout",
     "output_type": "stream",
     "text": [
      "['b', 'c']\n"
     ]
    }
   ],
   "source": [
    "print(player1.all_cards)"
   ]
  },
  {
   "cell_type": "code",
   "execution_count": null,
   "metadata": {},
   "outputs": [],
   "source": []
  },
  {
   "cell_type": "code",
   "execution_count": null,
   "metadata": {},
   "outputs": [],
   "source": []
  },
  {
   "cell_type": "code",
   "execution_count": null,
   "metadata": {},
   "outputs": [],
   "source": []
  },
  {
   "cell_type": "code",
   "execution_count": 48,
   "metadata": {},
   "outputs": [
    {
     "ename": "NameError",
     "evalue": "name 'player_one' is not defined",
     "output_type": "error",
     "traceback": [
      "\u001b[0;31m---------------------------------------------------------------------------\u001b[0m",
      "\u001b[0;31mNameError\u001b[0m                                 Traceback (most recent call last)",
      "\u001b[0;32m<ipython-input-48-2bd36149a56c>\u001b[0m in \u001b[0;36m<module>\u001b[0;34m\u001b[0m\n\u001b[0;32m----> 1\u001b[0;31m \u001b[0mprint\u001b[0m\u001b[0;34m(\u001b[0m\u001b[0mplayer_one\u001b[0m\u001b[0;34m)\u001b[0m\u001b[0;34m\u001b[0m\u001b[0;34m\u001b[0m\u001b[0m\n\u001b[0m",
      "\u001b[0;31mNameError\u001b[0m: name 'player_one' is not defined"
     ]
    }
   ],
   "source": [
    "print(player_one)"
   ]
  },
  {
   "cell_type": "code",
   "execution_count": 49,
   "metadata": {},
   "outputs": [
    {
     "ename": "NameError",
     "evalue": "name 'player_one' is not defined",
     "output_type": "error",
     "traceback": [
      "\u001b[0;31m---------------------------------------------------------------------------\u001b[0m",
      "\u001b[0;31mNameError\u001b[0m                                 Traceback (most recent call last)",
      "\u001b[0;32m<ipython-input-49-25e98c2305b8>\u001b[0m in \u001b[0;36m<module>\u001b[0;34m\u001b[0m\n\u001b[0;32m----> 1\u001b[0;31m \u001b[0mprint\u001b[0m\u001b[0;34m(\u001b[0m\u001b[0mplayer_one\u001b[0m\u001b[0;34m.\u001b[0m\u001b[0mall_cards\u001b[0m\u001b[0;34m[\u001b[0m\u001b[0;36m0\u001b[0m\u001b[0;34m]\u001b[0m\u001b[0;34m)\u001b[0m\u001b[0;34m\u001b[0m\u001b[0;34m\u001b[0m\u001b[0m\n\u001b[0m",
      "\u001b[0;31mNameError\u001b[0m: name 'player_one' is not defined"
     ]
    }
   ],
   "source": [
    "print(player_one.all_cards[0])"
   ]
  },
  {
   "cell_type": "code",
   "execution_count": 85,
   "metadata": {},
   "outputs": [
    {
     "name": "stdout",
     "output_type": "stream",
     "text": [
      "Round 1\n",
      "Ace of Hearts \n",
      "Ten of Clubs \n",
      "Player1 wins round\n",
      "Round 2\n",
      "Five of Clubs \n",
      "Four of Diamonds \n",
      "Player1 wins round\n",
      "Round 3\n",
      "King of Spades \n",
      "Seven of Clubs \n",
      "Player1 wins round\n",
      "Round 4\n",
      "Five of Diamonds \n",
      "Queen of Spades \n",
      "Player2 wins round\n",
      "Round 5\n",
      "Seven of Hearts \n",
      "Eight of Hearts \n",
      "Player2 wins round\n",
      "Round 6\n",
      "Ten of Spades \n",
      "Six of Hearts \n",
      "Player1 wins round\n",
      "Round 7\n",
      "Nine of Hearts \n",
      "Six of Spades \n",
      "Player1 wins round\n",
      "Round 8\n",
      "Jack of Clubs \n",
      "Ten of Diamonds \n",
      "Player1 wins round\n",
      "Round 9\n",
      "Five of Spades \n",
      "Nine of Diamonds \n",
      "Player2 wins round\n",
      "Round 10\n",
      "Ace of Clubs \n",
      "Six of Diamonds \n",
      "Player1 wins round\n",
      "Round 11\n",
      "Four of Hearts \n",
      "Ten of Hearts \n",
      "Player2 wins round\n",
      "Round 12\n",
      "Eight of Diamonds \n",
      "Four of Clubs \n",
      "Player1 wins round\n",
      "Round 13\n",
      "King of Hearts \n",
      "King of Clubs \n",
      "WAR!!!!!!!!!!!!!!!!!!!!!!!!!!!!!!\n",
      "King of Hearts , Nine of Clubs , Seven of Diamonds , Four of Spades , Six of Clubs , Two of Spades , Nine of Spades , Two of Clubs , Two of Hearts , Five of Hearts , Seven of Spades , Jack of Hearts , \n",
      "King of Clubs , Jack of Diamonds , Eight of Spades , Two of Diamonds , Three of Hearts , Ace of Spades , Jack of Spades , Three of Diamonds , King of Diamonds , Queen of Clubs , Three of Spades , Queen of Diamonds , \n",
      "Player2 wins round\n",
      "Round 14\n",
      "Queen of Hearts \n",
      "Eight of Clubs \n",
      "Player1 wins round\n",
      "Round 15\n",
      "Ace of Diamonds \n",
      "Three of Clubs \n",
      "Player1 wins round\n",
      "Round 16\n",
      "Ace of Hearts \n",
      "Five of Diamonds \n",
      "Player1 wins round\n",
      "Round 17\n",
      "Ten of Clubs \n",
      "Queen of Spades \n",
      "Player2 wins round\n",
      "Round 18\n",
      "Five of Clubs \n",
      "Seven of Hearts \n",
      "Player2 wins round\n",
      "Round 19\n",
      "Four of Diamonds \n",
      "Eight of Hearts \n",
      "Player2 wins round\n",
      "Round 20\n",
      "King of Spades \n",
      "Five of Spades \n",
      "Player1 wins round\n",
      "Round 21\n",
      "Seven of Clubs \n",
      "Nine of Diamonds \n",
      "Player2 wins round\n",
      "Round 22\n",
      "Ten of Spades \n",
      "Four of Hearts \n",
      "Player1 wins round\n",
      "Round 23\n",
      "Six of Hearts \n",
      "Ten of Hearts \n",
      "Player2 wins round\n",
      "Round 24\n",
      "Nine of Hearts \n",
      "King of Hearts \n",
      "Player2 wins round\n",
      "Round 25\n",
      "Six of Spades \n",
      "Nine of Clubs \n",
      "Player2 wins round\n",
      "Round 26\n",
      "Jack of Clubs \n",
      "Seven of Diamonds \n",
      "Player1 wins round\n",
      "Round 27\n",
      "Ten of Diamonds \n",
      "Four of Spades \n",
      "Player1 wins round\n",
      "Round 28\n",
      "Ace of Clubs \n",
      "Six of Clubs \n",
      "Player1 wins round\n",
      "Round 29\n",
      "Six of Diamonds \n",
      "Two of Spades \n",
      "Player1 wins round\n",
      "Round 30\n",
      "Eight of Diamonds \n",
      "Nine of Spades \n",
      "Player2 wins round\n",
      "Round 31\n",
      "Four of Clubs \n",
      "Two of Clubs \n",
      "Player1 wins round\n",
      "Round 32\n",
      "Queen of Hearts \n",
      "Two of Hearts \n",
      "Player1 wins round\n",
      "Round 33\n",
      "Eight of Clubs \n",
      "Five of Hearts \n",
      "Player1 wins round\n",
      "Round 34\n",
      "Ace of Diamonds \n",
      "Seven of Spades \n",
      "Player1 wins round\n",
      "Round 35\n",
      "Three of Clubs \n",
      "Jack of Hearts \n",
      "Player2 wins round\n",
      "Round 36\n",
      "Ace of Hearts \n",
      "King of Clubs \n",
      "Player1 wins round\n",
      "Round 37\n",
      "Five of Diamonds \n",
      "Jack of Diamonds \n",
      "Player2 wins round\n",
      "Round 38\n",
      "King of Spades \n",
      "Eight of Spades \n",
      "Player1 wins round\n",
      "Round 39\n",
      "Five of Spades \n",
      "Two of Diamonds \n",
      "Player1 wins round\n",
      "Round 40\n",
      "Ten of Spades \n",
      "Three of Hearts \n",
      "Player1 wins round\n",
      "Round 41\n",
      "Four of Hearts \n",
      "Ace of Spades \n",
      "Player2 wins round\n",
      "Round 42\n",
      "Jack of Clubs \n",
      "Jack of Spades \n",
      "WAR!!!!!!!!!!!!!!!!!!!!!!!!!!!!!!\n",
      "Jack of Clubs , Seven of Diamonds , Ten of Diamonds , Four of Spades , Ace of Clubs , Six of Clubs , Six of Diamonds , Two of Spades , Four of Clubs , Two of Clubs , Queen of Hearts , Two of Hearts , \n",
      "Jack of Spades , Three of Diamonds , King of Diamonds , Queen of Clubs , Three of Spades , Queen of Diamonds , Ten of Clubs , Queen of Spades , Five of Clubs , Seven of Hearts , Four of Diamonds , Eight of Hearts , \n",
      "Player2 wins round\n",
      "Round 43\n",
      "Eight of Clubs \n",
      "Seven of Clubs \n",
      "Player1 wins round\n",
      "Round 44\n",
      "Five of Hearts \n",
      "Nine of Diamonds \n",
      "Player2 wins round\n",
      "Round 45\n",
      "Ace of Diamonds \n",
      "Six of Hearts \n",
      "Player1 wins round\n",
      "Round 46\n",
      "Seven of Spades \n",
      "Ten of Hearts \n",
      "Player2 wins round\n",
      "Round 47\n",
      "Ace of Hearts \n",
      "Nine of Hearts \n",
      "Player1 wins round\n",
      "Round 48\n",
      "King of Clubs \n",
      "King of Hearts \n",
      "WAR!!!!!!!!!!!!!!!!!!!!!!!!!!!!!!\n",
      "King of Clubs , King of Spades , Eight of Spades , Five of Spades , Two of Diamonds , Ten of Spades , Three of Hearts , Eight of Clubs , Seven of Clubs , Ace of Diamonds , Six of Hearts , Ace of Hearts , \n",
      "King of Hearts , Six of Spades , Nine of Clubs , Eight of Diamonds , Nine of Spades , Three of Clubs , Jack of Hearts , Five of Diamonds , Jack of Diamonds , Four of Hearts , Ace of Spades , Jack of Clubs , \n",
      "Player1 wins round\n",
      "Round 49\n",
      "Nine of Hearts \n",
      "Seven of Diamonds \n",
      "Player1 wins round\n",
      "Round 50\n",
      "King of Clubs \n",
      "Ten of Diamonds \n",
      "Player1 wins round\n",
      "Round 51\n",
      "King of Spades \n",
      "Four of Spades \n",
      "Player1 wins round\n",
      "Round 52\n",
      "Eight of Spades \n",
      "Ace of Clubs \n",
      "Player2 wins round\n",
      "Round 53\n",
      "Five of Spades \n",
      "Six of Clubs \n",
      "Player2 wins round\n",
      "Round 54\n",
      "Two of Diamonds \n",
      "Six of Diamonds \n",
      "Player2 wins round\n",
      "Round 55\n",
      "Ten of Spades \n",
      "Two of Spades \n",
      "Player1 wins round\n",
      "Round 56\n",
      "Three of Hearts \n",
      "Four of Clubs \n",
      "Player2 wins round\n",
      "Round 57\n",
      "Eight of Clubs \n",
      "Two of Clubs \n",
      "Player1 wins round\n",
      "Round 58\n",
      "Seven of Clubs \n",
      "Queen of Hearts \n",
      "Player2 wins round\n",
      "Round 59\n",
      "Ace of Diamonds \n",
      "Two of Hearts \n",
      "Player1 wins round\n",
      "Round 60\n",
      "Six of Hearts \n",
      "Jack of Spades \n",
      "Player2 wins round\n",
      "Round 61\n",
      "Ace of Hearts \n",
      "Three of Diamonds \n",
      "Player1 wins round\n",
      "Round 62\n",
      "King of Hearts \n",
      "King of Diamonds \n",
      "WAR!!!!!!!!!!!!!!!!!!!!!!!!!!!!!!\n",
      "King of Hearts , Six of Spades , Nine of Clubs , Eight of Diamonds , Nine of Spades , Three of Clubs , Jack of Hearts , Five of Diamonds , Jack of Diamonds , Four of Hearts , Ace of Spades , Jack of Clubs , \n",
      "King of Diamonds , Queen of Clubs , Three of Spades , Queen of Diamonds , Ten of Clubs , Queen of Spades , Five of Clubs , Seven of Hearts , Four of Diamonds , Eight of Hearts , Five of Hearts , Nine of Diamonds , \n",
      "Player1 wins round\n",
      "Round 63\n",
      "Nine of Hearts \n",
      "Seven of Spades \n",
      "Player1 wins round\n",
      "Round 64\n",
      "Seven of Diamonds \n",
      "Ten of Hearts \n",
      "Player2 wins round\n",
      "Round 65\n",
      "King of Clubs \n",
      "Eight of Spades \n",
      "Player1 wins round\n",
      "Round 66\n",
      "Ten of Diamonds \n",
      "Ace of Clubs \n",
      "Player2 wins round\n",
      "Round 67\n",
      "King of Spades \n",
      "Five of Spades \n",
      "Player1 wins round\n",
      "Round 68\n",
      "Four of Spades \n",
      "Six of Clubs \n",
      "Player2 wins round\n",
      "Round 69\n",
      "Ten of Spades \n",
      "Two of Diamonds \n",
      "Player1 wins round\n",
      "Round 70\n",
      "Two of Spades \n",
      "Six of Diamonds \n",
      "Player2 wins round\n",
      "Round 71\n",
      "Eight of Clubs \n",
      "Three of Hearts \n",
      "Player1 wins round\n",
      "Round 72\n",
      "Two of Clubs \n",
      "Four of Clubs \n",
      "Player2 wins round\n",
      "Round 73\n",
      "Ace of Diamonds \n",
      "Seven of Clubs \n",
      "Player1 wins round\n",
      "Round 74\n",
      "Two of Hearts \n",
      "Queen of Hearts \n",
      "Player2 wins round\n",
      "Round 75\n",
      "Ace of Hearts \n",
      "Six of Hearts \n",
      "Player1 wins round\n",
      "Round 76\n",
      "Three of Diamonds \n",
      "Jack of Spades \n",
      "Player2 wins round\n",
      "Round 77\n",
      "King of Hearts \n",
      "Seven of Diamonds \n",
      "Player1 wins round\n",
      "Round 78\n",
      "Six of Spades \n",
      "Ten of Hearts \n",
      "Player2 wins round\n",
      "Round 79\n",
      "Nine of Clubs \n",
      "Ten of Diamonds \n",
      "Player2 wins round\n",
      "Round 80\n",
      "Eight of Diamonds \n",
      "Ace of Clubs \n",
      "Player2 wins round\n",
      "Round 81\n",
      "Nine of Spades \n",
      "Four of Spades \n",
      "Player1 wins round\n",
      "Round 82\n",
      "Three of Clubs \n",
      "Six of Clubs \n",
      "Player2 wins round\n",
      "Round 83\n",
      "Jack of Hearts \n",
      "Two of Spades \n",
      "Player1 wins round\n",
      "Round 84\n",
      "Five of Diamonds \n",
      "Six of Diamonds \n",
      "Player2 wins round\n",
      "Round 85\n",
      "Jack of Diamonds \n",
      "Two of Clubs \n",
      "Player1 wins round\n",
      "Round 86\n",
      "Four of Hearts \n",
      "Four of Clubs \n",
      "WAR!!!!!!!!!!!!!!!!!!!!!!!!!!!!!!\n",
      "Four of Hearts , Ace of Spades , Jack of Clubs , King of Diamonds , Queen of Clubs , Three of Spades , Queen of Diamonds , Ten of Clubs , Queen of Spades , Five of Clubs , Seven of Hearts , Four of Diamonds , \n",
      "Four of Clubs , Two of Hearts , Queen of Hearts , Three of Diamonds , Jack of Spades , Six of Spades , Ten of Hearts , Nine of Clubs , Ten of Diamonds , Eight of Diamonds , Ace of Clubs , Three of Clubs , \n",
      "Player1 wins round\n",
      "Round 87\n",
      "Eight of Hearts \n",
      "Six of Clubs \n",
      "Player1 wins round\n",
      "Round 88\n",
      "Five of Hearts \n",
      "Five of Diamonds \n",
      "WAR!!!!!!!!!!!!!!!!!!!!!!!!!!!!!!\n",
      "Player Two unable to declare war\n",
      "Player One wins\n"
     ]
    }
   ],
   "source": [
    "# GAME SETUP\n",
    "\n",
    "player_one = Player('One')\n",
    "player_two = Player('Two')\n",
    "\n",
    "new_deck = Deck()\n",
    "new_deck.shuffle()\n",
    "\n",
    "player_one_cards = []\n",
    "player_two_cards = []\n",
    "\n",
    "for x in range(26):\n",
    "    player_one.add_cards(new_deck.deal_one())\n",
    "    player_two.add_cards(new_deck.deal_one())\n",
    "    \n",
    "    \n",
    "game_on = True\n",
    "\n",
    "round_num = 0\n",
    "\n",
    "while game_on:\n",
    "    \n",
    "    round_num += 1\n",
    "    print(f'Round {round_num}')\n",
    "    \n",
    "    player_one_cards = []\n",
    "    player_two_cards = []\n",
    "    \n",
    "    if len(player_one.all_cards) == 0:\n",
    "        print('Player One out of cards! Player Two wins')\n",
    "        game_on = False\n",
    "        break\n",
    "        \n",
    "    if len(player_two.all_cards) == 0:\n",
    "        print('Player Two out of cards! Player One wins')\n",
    "        game_on = False\n",
    "        break\n",
    "        \n",
    "    # Start a new round\n",
    "\n",
    "    player_one_cards.append(player_one.remove_one())\n",
    "    for card in player_one_cards:\n",
    "        print(card, end=\" \")\n",
    "    print()\n",
    "  \n",
    "    \n",
    "    player_two_cards.append(player_two.remove_one())\n",
    "    for card in player_two_cards:\n",
    "        print(card, end=\" \")\n",
    "    print()\n",
    "\n",
    "    \n",
    "    at_war = True\n",
    "    \n",
    "    while at_war:\n",
    "        \n",
    "        if player_one_cards[-1].value > player_two_cards[-1].value:\n",
    "            \n",
    "            player_one.add_cards(player_one_cards)\n",
    "            player_one.add_cards(player_two_cards)\n",
    "            print('Player1 wins round')\n",
    "\n",
    "            at_war = False\n",
    "        \n",
    "        elif player_one_cards[-1].value < player_two_cards[-1].value:\n",
    "            \n",
    "            player_two.add_cards(player_one_cards)\n",
    "            player_two.add_cards(player_two_cards)\n",
    "            print('Player2 wins round')\n",
    "\n",
    "            at_war = False\n",
    "            \n",
    "        else:\n",
    "            \n",
    "            print('WAR!!!!!!!!!!!!!!!!!!!!!!!!!!!!!!')\n",
    "            \n",
    "            if len(player_one.all_cards) < 11:\n",
    "                print('Player One unable to declare war')\n",
    "                print('Player Two wins')\n",
    "                game_on = False\n",
    "                break\n",
    "            \n",
    "            elif len(player_two.all_cards) < 11:\n",
    "                print('Player Two unable to declare war')\n",
    "                print('Player One wins')\n",
    "                game_on = False\n",
    "                break\n",
    "                \n",
    "            else:\n",
    "                for num in range(11):\n",
    "                    player_one_cards.append(player_one.remove_one())\n",
    "                    player_two_cards.append(player_two.remove_one())\n",
    "\n",
    "                for card in player_one_cards:\n",
    "                    print(card, end=\" , \")\n",
    "                print()\n",
    "                for card in player_two_cards:\n",
    "                    print(card, end=\" , \")\n",
    "                print()\n",
    "\n"
   ]
  },
  {
   "cell_type": "code",
   "execution_count": null,
   "metadata": {},
   "outputs": [],
   "source": []
  }
 ],
 "metadata": {
  "kernelspec": {
   "display_name": "Python 3",
   "language": "python",
   "name": "python3"
  },
  "language_info": {
   "codemirror_mode": {
    "name": "ipython",
    "version": 3
   },
   "file_extension": ".py",
   "mimetype": "text/x-python",
   "name": "python",
   "nbconvert_exporter": "python",
   "pygments_lexer": "ipython3",
   "version": "3.6.10"
  }
 },
 "nbformat": 4,
 "nbformat_minor": 4
}
