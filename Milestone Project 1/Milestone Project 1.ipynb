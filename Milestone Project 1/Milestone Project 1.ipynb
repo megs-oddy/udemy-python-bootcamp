{
 "cells": [
  {
   "cell_type": "code",
   "execution_count": 1,
   "metadata": {},
   "outputs": [],
   "source": [
    "from IPython.display import clear_output\n",
    "\n",
    "board = [1,2,3,4,5,6,7,8,9]\n",
    "\n",
    "#clear_output(wait = True)\n",
    "\n",
    "def display_board(board):\n",
    "    \n",
    "    print(f' {board[0]} | {board[1]} | {board[2]} ')\n",
    "    print('-----------')\n",
    "    print(f' {board[3]} | {board[4]} | {board[5]} ')\n",
    "    print('-----------')\n",
    "    print(f' {board[6]} | {board[7]} | {board[8]} ')\n",
    "    "
   ]
  },
  {
   "cell_type": "code",
   "execution_count": 2,
   "metadata": {},
   "outputs": [],
   "source": [
    "def marker_choice():\n",
    "    \n",
    "    marker1 = 'wrong'\n",
    "    \n",
    "    while marker1 not in ['X','O']:\n",
    "    \n",
    "        marker1 = input('Player 1 choose a marker (X or O): ')\n",
    "        marker1 = marker1.upper()\n",
    "\n",
    "        if marker1 not in ['X','O']:\n",
    "            print('Please choose X or O')\n",
    "            \n",
    "    if marker1 == 'X':\n",
    "        marker2 = 'O'\n",
    "    elif marker1 == 'O':\n",
    "        marker2 = 'X'\n",
    "        \n",
    "    print(f'Player 1: {marker1}')\n",
    "    print(f'Player 2: {marker2}')\n",
    "    \n",
    "    return ('Player 1',marker1),('Player 2',marker2)\n",
    "            "
   ]
  },
  {
   "cell_type": "code",
   "execution_count": 3,
   "metadata": {},
   "outputs": [],
   "source": [
    "def position_choice(player,marker,board):\n",
    "            \n",
    "    position = 'wrong'\n",
    "    \n",
    "    while True:\n",
    "        \n",
    "        position = input(f'{player} choose a position on the board (1-9): ')\n",
    "        \n",
    "        if position not in ['1','2','3','4','5','6','7','8','9']:\n",
    "            print('Please choose a valid position')\n",
    "            continue\n",
    "            \n",
    "        if board[int(position)-1] in ['X','O']:\n",
    "            print('Please choose a valid position')\n",
    "            continue \n",
    "    \n",
    "        break\n",
    "        \n",
    "    board[int(position)-1] = marker\n",
    "        \n",
    "    return board"
   ]
  },
  {
   "cell_type": "code",
   "execution_count": 4,
   "metadata": {},
   "outputs": [],
   "source": [
    "def check_win(player,marker,board):\n",
    "    \n",
    "    game_won = False\n",
    "    \n",
    "    for i in range(0,3):\n",
    "        \n",
    "        if board[i*3]==board[i*3+1]==board[i*3+2]:\n",
    "            print(f'Congratulations {player}, you won!')\n",
    "            game_won = True\n",
    "        \n",
    "        elif board[i] == board[i+3] == board[i+6]:\n",
    "            print(f'Congratulations {player}, you won!')\n",
    "            game_won = True\n",
    "            \n",
    "    if board[0] == board[4] == board[8]:\n",
    "        print(f'Congratulations {player}, you won!')\n",
    "        game_won = True\n",
    "        \n",
    "    if board[2] == board[4] == board[6]:\n",
    "        print(f'Congratulations {player}, you won!')\n",
    "        game_won = True\n",
    "\n",
    "    return game_won     \n",
    "    "
   ]
  },
  {
   "cell_type": "code",
   "execution_count": 5,
   "metadata": {},
   "outputs": [],
   "source": [
    "def check_tie(board):\n",
    "\n",
    "    game_tie = False\n",
    "    positions_left = 9\n",
    "    \n",
    "    for i in range(len(board)):\n",
    "        \n",
    "        if board[i] == 'X' or board[i] == 'O':\n",
    "            positions_left -= 1\n",
    "            \n",
    "    \n",
    "    if positions_left == 0:\n",
    "        print('It is a tie!')\n",
    "        game_tie = True\n",
    "    \n",
    "    return game_tie"
   ]
  },
  {
   "cell_type": "code",
   "execution_count": 63,
   "metadata": {},
   "outputs": [],
   "source": [
    "def play_again():\n",
    "    \n",
    "    play_again = True\n",
    "    ans = 'wrong'\n",
    "    \n",
    "    while ans not in ['Y','N']:\n",
    "        \n",
    "        ans = input(\"Play again (Y or N): \")\n",
    "        ans = ans.upper()\n",
    "        \n",
    "        if ans not in ['Y','N']:\n",
    "            print('Please choose Y or N')\n",
    "        \n",
    "        if ans == 'N':\n",
    "        \n",
    "            play_again = False\n",
    "    return play_again"
   ]
  },
  {
   "cell_type": "code",
   "execution_count": 53,
   "metadata": {},
   "outputs": [],
   "source": [
    "from IPython.display import clear_output\n",
    "\n",
    "def play_one_game():\n",
    "    \n",
    "    gameon = True\n",
    "    board = [1,2,3,4,5,6,7,8,9]\n",
    "\n",
    "    print('Welcome to the game!')\n",
    "\n",
    "    (P1,marker1),(P2,marker2) = marker_choice()\n",
    "\n",
    "    display_board(board)\n",
    "\n",
    "    while gameon:\n",
    "\n",
    "\n",
    "        board = position_choice(P1,marker1,board)\n",
    "\n",
    "        clear_output(True)\n",
    "\n",
    "        display_board(board)\n",
    "\n",
    "        if check_win(P1,marker1,board):\n",
    "            #display_board(board)\n",
    "            gameon = False\n",
    "            break\n",
    "\n",
    "        elif check_tie(board):\n",
    "            #display_board(board)\n",
    "            gameon = False\n",
    "            break\n",
    "\n",
    "        board = position_choice(P2,marker2,board)\n",
    "\n",
    "        clear_output(True)\n",
    "\n",
    "        display_board(board)\n",
    "\n",
    "        if check_win(P2,marker2,board):\n",
    "            #display_board(board)\n",
    "            gameon = False\n",
    "            break\n",
    "\n",
    "        elif check_tie(board):\n",
    "            #display_board(board)\n",
    "            gameon = False\n",
    "            break\n",
    "\n",
    "        #clear_output(True)\n"
   ]
  },
  {
   "cell_type": "code",
   "execution_count": 80,
   "metadata": {},
   "outputs": [],
   "source": [
    "def playgame():\n",
    "    \n",
    "    playagain = True\n",
    "\n",
    "    while playagain:\n",
    "\n",
    "        play_one_game()\n",
    "\n",
    "        playagain = play_again()\n",
    "\n",
    "        clear_output(True)\n"
   ]
  },
  {
   "cell_type": "code",
   "execution_count": 84,
   "metadata": {},
   "outputs": [
    {
     "name": "stdout",
     "output_type": "stream",
     "text": [
      " X | X | 3 \n",
      "-----------\n",
      " 4 | O | 6 \n",
      "-----------\n",
      " O | 8 | 9 \n"
     ]
    },
    {
     "ename": "KeyboardInterrupt",
     "evalue": "Interrupted by user",
     "output_type": "error",
     "traceback": [
      "\u001b[0;31m---------------------------------------------------------------------------\u001b[0m",
      "\u001b[0;31mKeyboardInterrupt\u001b[0m                         Traceback (most recent call last)",
      "\u001b[0;32m<ipython-input-84-fb53a04cedc0>\u001b[0m in \u001b[0;36m<module>\u001b[0;34m\u001b[0m\n\u001b[0;32m----> 1\u001b[0;31m \u001b[0mplaygame\u001b[0m\u001b[0;34m(\u001b[0m\u001b[0;34m)\u001b[0m\u001b[0;34m\u001b[0m\u001b[0;34m\u001b[0m\u001b[0m\n\u001b[0m",
      "\u001b[0;32m<ipython-input-80-ce2eaf5f4fa8>\u001b[0m in \u001b[0;36mplaygame\u001b[0;34m()\u001b[0m\n\u001b[1;32m      5\u001b[0m     \u001b[0;32mwhile\u001b[0m \u001b[0mplayagain\u001b[0m\u001b[0;34m:\u001b[0m\u001b[0;34m\u001b[0m\u001b[0;34m\u001b[0m\u001b[0m\n\u001b[1;32m      6\u001b[0m \u001b[0;34m\u001b[0m\u001b[0m\n\u001b[0;32m----> 7\u001b[0;31m         \u001b[0mplay_one_game\u001b[0m\u001b[0;34m(\u001b[0m\u001b[0;34m)\u001b[0m\u001b[0;34m\u001b[0m\u001b[0;34m\u001b[0m\u001b[0m\n\u001b[0m\u001b[1;32m      8\u001b[0m \u001b[0;34m\u001b[0m\u001b[0m\n\u001b[1;32m      9\u001b[0m         \u001b[0mplayagain\u001b[0m \u001b[0;34m=\u001b[0m \u001b[0mplay_again\u001b[0m\u001b[0;34m(\u001b[0m\u001b[0;34m)\u001b[0m\u001b[0;34m\u001b[0m\u001b[0;34m\u001b[0m\u001b[0m\n",
      "\u001b[0;32m<ipython-input-53-61635fdd87a8>\u001b[0m in \u001b[0;36mplay_one_game\u001b[0;34m()\u001b[0m\n\u001b[1;32m     15\u001b[0m \u001b[0;34m\u001b[0m\u001b[0m\n\u001b[1;32m     16\u001b[0m \u001b[0;34m\u001b[0m\u001b[0m\n\u001b[0;32m---> 17\u001b[0;31m         \u001b[0mboard\u001b[0m \u001b[0;34m=\u001b[0m \u001b[0mposition_choice\u001b[0m\u001b[0;34m(\u001b[0m\u001b[0mP1\u001b[0m\u001b[0;34m,\u001b[0m\u001b[0mmarker1\u001b[0m\u001b[0;34m,\u001b[0m\u001b[0mboard\u001b[0m\u001b[0;34m)\u001b[0m\u001b[0;34m\u001b[0m\u001b[0;34m\u001b[0m\u001b[0m\n\u001b[0m\u001b[1;32m     18\u001b[0m \u001b[0;34m\u001b[0m\u001b[0m\n\u001b[1;32m     19\u001b[0m         \u001b[0mclear_output\u001b[0m\u001b[0;34m(\u001b[0m\u001b[0;32mTrue\u001b[0m\u001b[0;34m)\u001b[0m\u001b[0;34m\u001b[0m\u001b[0;34m\u001b[0m\u001b[0m\n",
      "\u001b[0;32m<ipython-input-3-3e42095444a0>\u001b[0m in \u001b[0;36mposition_choice\u001b[0;34m(player, marker, board)\u001b[0m\n\u001b[1;32m      5\u001b[0m     \u001b[0;32mwhile\u001b[0m \u001b[0;32mTrue\u001b[0m\u001b[0;34m:\u001b[0m\u001b[0;34m\u001b[0m\u001b[0;34m\u001b[0m\u001b[0m\n\u001b[1;32m      6\u001b[0m \u001b[0;34m\u001b[0m\u001b[0m\n\u001b[0;32m----> 7\u001b[0;31m         \u001b[0mposition\u001b[0m \u001b[0;34m=\u001b[0m \u001b[0minput\u001b[0m\u001b[0;34m(\u001b[0m\u001b[0;34mf'{player} choose a position on the board (1-9): '\u001b[0m\u001b[0;34m)\u001b[0m\u001b[0;34m\u001b[0m\u001b[0;34m\u001b[0m\u001b[0m\n\u001b[0m\u001b[1;32m      8\u001b[0m \u001b[0;34m\u001b[0m\u001b[0m\n\u001b[1;32m      9\u001b[0m         \u001b[0;32mif\u001b[0m \u001b[0mposition\u001b[0m \u001b[0;32mnot\u001b[0m \u001b[0;32min\u001b[0m \u001b[0;34m[\u001b[0m\u001b[0;34m'1'\u001b[0m\u001b[0;34m,\u001b[0m\u001b[0;34m'2'\u001b[0m\u001b[0;34m,\u001b[0m\u001b[0;34m'3'\u001b[0m\u001b[0;34m,\u001b[0m\u001b[0;34m'4'\u001b[0m\u001b[0;34m,\u001b[0m\u001b[0;34m'5'\u001b[0m\u001b[0;34m,\u001b[0m\u001b[0;34m'6'\u001b[0m\u001b[0;34m,\u001b[0m\u001b[0;34m'7'\u001b[0m\u001b[0;34m,\u001b[0m\u001b[0;34m'8'\u001b[0m\u001b[0;34m,\u001b[0m\u001b[0;34m'9'\u001b[0m\u001b[0;34m]\u001b[0m\u001b[0;34m:\u001b[0m\u001b[0;34m\u001b[0m\u001b[0;34m\u001b[0m\u001b[0m\n",
      "\u001b[0;32m~/miniconda3/envs/env/lib/python3.6/site-packages/ipykernel/kernelbase.py\u001b[0m in \u001b[0;36mraw_input\u001b[0;34m(self, prompt)\u001b[0m\n\u001b[1;32m    861\u001b[0m             \u001b[0mself\u001b[0m\u001b[0;34m.\u001b[0m\u001b[0m_parent_ident\u001b[0m\u001b[0;34m,\u001b[0m\u001b[0;34m\u001b[0m\u001b[0;34m\u001b[0m\u001b[0m\n\u001b[1;32m    862\u001b[0m             \u001b[0mself\u001b[0m\u001b[0;34m.\u001b[0m\u001b[0m_parent_header\u001b[0m\u001b[0;34m,\u001b[0m\u001b[0;34m\u001b[0m\u001b[0;34m\u001b[0m\u001b[0m\n\u001b[0;32m--> 863\u001b[0;31m             \u001b[0mpassword\u001b[0m\u001b[0;34m=\u001b[0m\u001b[0;32mFalse\u001b[0m\u001b[0;34m,\u001b[0m\u001b[0;34m\u001b[0m\u001b[0;34m\u001b[0m\u001b[0m\n\u001b[0m\u001b[1;32m    864\u001b[0m         )\n\u001b[1;32m    865\u001b[0m \u001b[0;34m\u001b[0m\u001b[0m\n",
      "\u001b[0;32m~/miniconda3/envs/env/lib/python3.6/site-packages/ipykernel/kernelbase.py\u001b[0m in \u001b[0;36m_input_request\u001b[0;34m(self, prompt, ident, parent, password)\u001b[0m\n\u001b[1;32m    902\u001b[0m             \u001b[0;32mexcept\u001b[0m \u001b[0mKeyboardInterrupt\u001b[0m\u001b[0;34m:\u001b[0m\u001b[0;34m\u001b[0m\u001b[0;34m\u001b[0m\u001b[0m\n\u001b[1;32m    903\u001b[0m                 \u001b[0;31m# re-raise KeyboardInterrupt, to truncate traceback\u001b[0m\u001b[0;34m\u001b[0m\u001b[0;34m\u001b[0m\u001b[0;34m\u001b[0m\u001b[0m\n\u001b[0;32m--> 904\u001b[0;31m                 \u001b[0;32mraise\u001b[0m \u001b[0mKeyboardInterrupt\u001b[0m\u001b[0;34m(\u001b[0m\u001b[0;34m\"Interrupted by user\"\u001b[0m\u001b[0;34m)\u001b[0m \u001b[0;32mfrom\u001b[0m \u001b[0;32mNone\u001b[0m\u001b[0;34m\u001b[0m\u001b[0;34m\u001b[0m\u001b[0m\n\u001b[0m\u001b[1;32m    905\u001b[0m             \u001b[0;32mexcept\u001b[0m \u001b[0mException\u001b[0m \u001b[0;32mas\u001b[0m \u001b[0me\u001b[0m\u001b[0;34m:\u001b[0m\u001b[0;34m\u001b[0m\u001b[0;34m\u001b[0m\u001b[0m\n\u001b[1;32m    906\u001b[0m                 \u001b[0mself\u001b[0m\u001b[0;34m.\u001b[0m\u001b[0mlog\u001b[0m\u001b[0;34m.\u001b[0m\u001b[0mwarning\u001b[0m\u001b[0;34m(\u001b[0m\u001b[0;34m\"Invalid Message:\"\u001b[0m\u001b[0;34m,\u001b[0m \u001b[0mexc_info\u001b[0m\u001b[0;34m=\u001b[0m\u001b[0;32mTrue\u001b[0m\u001b[0;34m)\u001b[0m\u001b[0;34m\u001b[0m\u001b[0;34m\u001b[0m\u001b[0m\n",
      "\u001b[0;31mKeyboardInterrupt\u001b[0m: Interrupted by user"
     ]
    }
   ],
   "source": [
    "playgame()"
   ]
  },
  {
   "cell_type": "markdown",
   "metadata": {},
   "source": [
    "\n",
    "\n",
    "\n",
    "\n",
    "\n",
    "### 3## "
   ]
  }
 ],
 "metadata": {
  "kernelspec": {
   "display_name": "Python 3",
   "language": "python",
   "name": "python3"
  },
  "language_info": {
   "codemirror_mode": {
    "name": "ipython",
    "version": 3
   },
   "file_extension": ".py",
   "mimetype": "text/x-python",
   "name": "python",
   "nbconvert_exporter": "python",
   "pygments_lexer": "ipython3",
   "version": "3.6.10"
  }
 },
 "nbformat": 4,
 "nbformat_minor": 4
}
