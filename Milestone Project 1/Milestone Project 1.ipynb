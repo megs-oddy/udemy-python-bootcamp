{
 "cells": [
  {
   "cell_type": "code",
   "execution_count": 1,
   "metadata": {},
   "outputs": [],
   "source": [
    "from IPython.display import clear_output\n",
    "\n",
    "board = [1,2,3,4,5,6,7,8,9]\n",
    "\n",
    "#clear_output(wait = True)\n",
    "\n",
    "def display_board(board):\n",
    "    \n",
    "    print(f' {board[0]} | {board[1]} | {board[2]} ')\n",
    "    print('-----------')\n",
    "    print(f' {board[3]} | {board[4]} | {board[5]} ')\n",
    "    print('-----------')\n",
    "    print(f' {board[6]} | {board[7]} | {board[8]} ')\n",
    "    "
   ]
  },
  {
   "cell_type": "code",
   "execution_count": 2,
   "metadata": {},
   "outputs": [],
   "source": [
    "def marker_choice():\n",
    "    \n",
    "    marker1 = 'wrong'\n",
    "    \n",
    "    while marker1 not in ['X','O']:\n",
    "    \n",
    "        marker1 = input('Player 1 choose a marker (X or O): ')\n",
    "        marker1 = marker1.upper()\n",
    "\n",
    "        if marker1 not in ['X','O']:\n",
    "            print('Please choose X or O')\n",
    "            \n",
    "    if marker1 == 'X':\n",
    "        marker2 = 'O'\n",
    "    elif marker1 == 'O':\n",
    "        marker2 = 'X'\n",
    "        \n",
    "    print(f'Player 1: {marker1}')\n",
    "    print(f'Player 2: {marker2}')\n",
    "    \n",
    "    return ('Player 1',marker1),('Player 2',marker2)\n",
    "            "
   ]
  },
  {
   "cell_type": "code",
   "execution_count": 3,
   "metadata": {},
   "outputs": [],
   "source": [
    "def position_choice(player,marker,board):\n",
    "            \n",
    "    position = 'wrong'\n",
    "    \n",
    "    while True:\n",
    "        \n",
    "        position = input(f'{player} choose a position on the board (1-9): ')\n",
    "        \n",
    "        if position not in ['1','2','3','4','5','6','7','8','9']:\n",
    "            print('Please choose a valid position')\n",
    "            continue\n",
    "            \n",
    "        if board[int(position)-1] in ['X','O']:\n",
    "            print('Please choose a valid position')\n",
    "            continue \n",
    "    \n",
    "        break\n",
    "        \n",
    "    board[int(position)-1] = marker\n",
    "        \n",
    "    return board"
   ]
  },
  {
   "cell_type": "code",
   "execution_count": 4,
   "metadata": {},
   "outputs": [],
   "source": [
    "def check_win(player,marker,board):\n",
    "    \n",
    "    game_won = False\n",
    "    \n",
    "    for i in range(0,3):\n",
    "        \n",
    "        if board[i*3]==board[i*3+1]==board[i*3+2]:\n",
    "            print(f'Congratulations {player}, you won!')\n",
    "            game_won = True\n",
    "        \n",
    "        elif board[i] == board[i+3] == board[i+6]:\n",
    "            print(f'Congratulations {player}, you won!')\n",
    "            game_won = True\n",
    "            \n",
    "    if board[0] == board[4] == board[8]:\n",
    "        print(f'Congratulations {player}, you won!')\n",
    "        game_won = True\n",
    "        \n",
    "    if board[2] == board[4] == board[6]:\n",
    "        print(f'Congratulations {player}, you won!')\n",
    "        game_won = True\n",
    "\n",
    "    return game_won     \n",
    "    "
   ]
  },
  {
   "cell_type": "code",
   "execution_count": 5,
   "metadata": {},
   "outputs": [],
   "source": [
    "def check_tie(board):\n",
    "\n",
    "    game_tie = False\n",
    "    positions_left = 9\n",
    "    \n",
    "    for i in range(len(board)):\n",
    "        \n",
    "        if board[i] == 'X' or board[i] == 'O':\n",
    "            positions_left -= 1\n",
    "            \n",
    "    \n",
    "    if positions_left == 0:\n",
    "        print('It is a tie!')\n",
    "        game_tie = True\n",
    "    \n",
    "    return game_tie"
   ]
  },
  {
   "cell_type": "code",
   "execution_count": 6,
   "metadata": {},
   "outputs": [],
   "source": [
    "def play_again():\n",
    "    \n",
    "    play_again = True\n",
    "    ans = 'wrong'\n",
    "    \n",
    "    while ans not in ['Y','N']:\n",
    "        \n",
    "        ans = input(\"Play again (Y or N): \")\n",
    "        ans = ans.upper()\n",
    "        \n",
    "        if ans not in ['Y','N']:\n",
    "            print('Please choose Y or N')\n",
    "        \n",
    "        if ans == 'N':\n",
    "        \n",
    "            play_again = False\n",
    "    return play_again"
   ]
  },
  {
   "cell_type": "code",
   "execution_count": 7,
   "metadata": {},
   "outputs": [],
   "source": [
    "from IPython.display import clear_output\n",
    "\n",
    "def play_one_game():\n",
    "    \n",
    "    gameon = True\n",
    "    board = [1,2,3,4,5,6,7,8,9]\n",
    "\n",
    "    print('Welcome to the game!')\n",
    "\n",
    "    (P1,marker1),(P2,marker2) = marker_choice()\n",
    "\n",
    "    display_board(board)\n",
    "\n",
    "    while gameon:\n",
    "\n",
    "\n",
    "        board = position_choice(P1,marker1,board)\n",
    "\n",
    "        clear_output(True)\n",
    "\n",
    "        display_board(board)\n",
    "\n",
    "        if check_win(P1,marker1,board):\n",
    "            #display_board(board)\n",
    "            gameon = False\n",
    "            break\n",
    "\n",
    "        elif check_tie(board):\n",
    "            #display_board(board)\n",
    "            gameon = False\n",
    "            break\n",
    "\n",
    "        board = position_choice(P2,marker2,board)\n",
    "\n",
    "        clear_output(True)\n",
    "\n",
    "        display_board(board)\n",
    "\n",
    "        if check_win(P2,marker2,board):\n",
    "            #display_board(board)\n",
    "            gameon = False\n",
    "            break\n",
    "\n",
    "        elif check_tie(board):\n",
    "            #display_board(board)\n",
    "            gameon = False\n",
    "            break\n",
    "\n",
    "        #clear_output(True)\n"
   ]
  },
  {
   "cell_type": "code",
   "execution_count": 8,
   "metadata": {},
   "outputs": [],
   "source": [
    "def playgame():\n",
    "    \n",
    "    playagain = True\n",
    "\n",
    "    while playagain:\n",
    "\n",
    "        play_one_game()\n",
    "\n",
    "        playagain = play_again()\n",
    "\n",
    "        clear_output(True)\n"
   ]
  },
  {
   "cell_type": "code",
   "execution_count": 9,
   "metadata": {},
   "outputs": [
    {
     "name": "stdout",
     "output_type": "stream",
     "text": [
      " 1 | 2 | X \n",
      "-----------\n",
      " O | X | O \n",
      "-----------\n",
      " X | O | X \n",
      "Congratulations Player 1, you won!\n",
      "Play again (Y or N): n\n"
     ]
    }
   ],
   "source": [
    "playgame()"
   ]
  },
  {
   "cell_type": "markdown",
   "metadata": {},
   "source": [
    "\n",
    "\n",
    "\n",
    "\n",
    "\n",
    "### 3## "
   ]
  }
 ],
 "metadata": {
  "kernelspec": {
   "display_name": "Python 3",
   "language": "python",
   "name": "python3"
  },
  "language_info": {
   "codemirror_mode": {
    "name": "ipython",
    "version": 3
   },
   "file_extension": ".py",
   "mimetype": "text/x-python",
   "name": "python",
   "nbconvert_exporter": "python",
   "pygments_lexer": "ipython3",
   "version": "3.6.10"
  }
 },
 "nbformat": 4,
 "nbformat_minor": 4
}
