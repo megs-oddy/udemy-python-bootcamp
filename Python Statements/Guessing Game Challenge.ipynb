{
 "cells": [
  {
   "cell_type": "code",
   "execution_count": null,
   "metadata": {},
   "outputs": [
    {
     "name": "stdout",
     "output_type": "stream",
     "text": [
      "The secret number is: 1\n",
      "Welcome to the game\n"
     ]
    }
   ],
   "source": [
    "import random\n",
    "number = random.randint(1,100)\n",
    "print(f'The secret number is: {number}')\n",
    "\n",
    "print('Welcome to the game')\n",
    "\n",
    "guesses = []\n",
    "\n",
    "while True:\n",
    "    guess = input('Please guess a number: ')\n",
    "    guess = int(guess)\n",
    "    if guess < 1 or guess > 100:\n",
    "        print('OUT OF BOUNDS')\n",
    "        continue\n",
    "    else:\n",
    "        guesses.append(guess)\n",
    "        if number == guesses[-1]:\n",
    "            if len(guesses) == 1:\n",
    "                print('WELL DONE! It took you 1 guess.')\n",
    "            else:\n",
    "                print(f\"WELL DONE! It took you {len(guesses)} guesses.\")\n",
    "            break\n",
    "        elif len(guesses)==1:\n",
    "            if abs(number-guess) > 10:\n",
    "                print('COLD')\n",
    "                continue\n",
    "            else:\n",
    "                print('WARM')\n",
    "                continue\n",
    "        elif len(guesses)>=1:\n",
    "            if abs(number-guesses[-2]) < abs(number-guesses[-1]):\n",
    "                print('COLDER')\n",
    "                continue\n",
    "            else:\n",
    "                print('WARMER')\n",
    "                continue"
   ]
  }
 ],
 "metadata": {
  "kernelspec": {
   "display_name": "Python 3",
   "language": "python",
   "name": "python3"
  },
  "language_info": {
   "codemirror_mode": {
    "name": "ipython",
    "version": 3
   },
   "file_extension": ".py",
   "mimetype": "text/x-python",
   "name": "python",
   "nbconvert_exporter": "python",
   "pygments_lexer": "ipython3",
   "version": "3.6.10"
  }
 },
 "nbformat": 4,
 "nbformat_minor": 4
}
